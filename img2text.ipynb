{
 "cells": [
  {
   "cell_type": "code",
   "execution_count": null,
   "metadata": {},
   "outputs": [],
   "source": [
    "import pandas  as pd\n",
    "import numpy as np\n",
    "import torch\n",
    "import os\n",
    "import warnings\n",
    "from googletrans import Translator\n",
    "from tqdm.notebook import tqdm\n",
    "import my_catr\n",
    "warnings.simplefilter('ignore')"
   ]
  },
  {
   "cell_type": "code",
   "execution_count": null,
   "metadata": {},
   "outputs": [],
   "source": [
    "os.chdir(\"./catr\")\n",
    "!pip install -q -q -q -r requirements.txt\n",
    "os.chdir(\"../\")"
   ]
  },
  {
   "cell_type": "code",
   "execution_count": null,
   "metadata": {},
   "outputs": [],
   "source": [
    "device = \"cuda:0\" if torch.cuda.is_available() else \"cpu\"\n",
    "device"
   ]
  },
  {
   "cell_type": "code",
   "execution_count": null,
   "metadata": {},
   "outputs": [],
   "source": [
    "train_df = pd.read_csv(\"../data/bokete/train.csv\")\n",
    "test_df = pd.read_csv(\"../data/bokete/test.csv\")"
   ]
  },
  {
   "cell_type": "code",
   "execution_count": null,
   "metadata": {},
   "outputs": [],
   "source": [
    "imcap = my_catr.my_catr()\n",
    "img_texts_en = []\n",
    "for file_path in tqdm(train_df[\"odai_photo_file_name\"]):\n",
    "    file_path = \"../data/bokete/imgs/train/\" + file_path\n",
    "    temp_img_text1 = imcap.fit(file_path)\n",
    "    img_texts_en.append(temp_img_text1)\n",
    "tr = Translator()\n",
    "img_texts_jp = [tr.translate(text, src=\"en\", dest=\"ja\").text for text in tqdm(img_texts_en)]"
   ]
  },
  {
   "cell_type": "code",
   "execution_count": null,
   "metadata": {},
   "outputs": [],
   "source": [
    "train_img_text = pd.DataFrame({\"file_path\":train_df[\"odai_photo_file_name\"].values,\"en_text\":img_texts_en,\"jp_text\":img_texts_jp})\n",
    "train_img_text.to_csv(\"./data/train_img_text.csv\")"
   ]
  },
  {
   "cell_type": "code",
   "execution_count": null,
   "metadata": {},
   "outputs": [],
   "source": [
    "imcap = my_catr.my_catr()\n",
    "img_texts_en = []\n",
    "for file_path in tqdm(test_df[\"odai_photo_file_name\"]):\n",
    "    file_path = \"../data/bokete/imgs/test/\" + file_path\n",
    "    temp_img_text1 = imcap.fit(file_path)\n",
    "    img_texts_en.append(temp_img_text1)\n",
    "tr = Translator()\n",
    "img_texts_jp = [tr.translate(text, src=\"en\", dest=\"ja\").text for text in tqdm(img_texts_en)]"
   ]
  },
  {
   "cell_type": "code",
   "execution_count": null,
   "metadata": {},
   "outputs": [],
   "source": [
    "test_img_text = pd.DataFrame({\"file_path\":test_df[\"odai_photo_file_name\"].values,\"en_text\":img_texts_en,\"jp_text\":img_texts_jp})\n",
    "train_img_text.to_csv(\"./data/test_img_text\")"
   ]
  }
 ],
 "metadata": {
  "kernelspec": {
   "display_name": "Python 3.9.12 ('test_env')",
   "language": "python",
   "name": "python3"
  },
  "language_info": {
   "codemirror_mode": {
    "name": "ipython",
    "version": 3
   },
   "file_extension": ".py",
   "mimetype": "text/x-python",
   "name": "python",
   "nbconvert_exporter": "python",
   "pygments_lexer": "ipython3",
   "version": "3.9.12"
  },
  "orig_nbformat": 4,
  "vscode": {
   "interpreter": {
    "hash": "139e08609a3fbce2fbc54fac7bce5ae0399bcfe4096df2489efaad135911dbcb"
   }
  }
 },
 "nbformat": 4,
 "nbformat_minor": 2
}
