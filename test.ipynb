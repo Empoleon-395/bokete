{
 "cells": [
  {
   "cell_type": "code",
   "execution_count": 3,
   "metadata": {},
   "outputs": [
    {
     "name": "stdout",
     "output_type": "stream",
     "text": [
      "c:\\Users\\takah\\Desktop\\python_files\\bokete\\fairseq\n"
     ]
    },
    {
     "name": "stderr",
     "output_type": "stream",
     "text": [
      "fatal: destination path 'fairseq' already exists and is not an empty directory.\n",
      "\n",
      "Usage:   \n",
      "  pip install [options] <requirement specifier> [package-index-options] ...\n",
      "  pip install [options] -r <requirements file> [package-index-options] ...\n",
      "  pip install [options] [-e] <vcs project url> ...\n",
      "  pip install [options] [-e] <local project path> ...\n",
      "  pip install [options] <archive url/path> ...\n",
      "\n",
      "option --use-feature: invalid choice: 'in-tree-build' (choose from '2020-resolver', 'fast-deps')\n"
     ]
    }
   ],
   "source": [
    "!git clone https://github.com/pytorch/fairseq.git\n",
    " \n",
    "%cd ./fairseq\n",
    "!pip install --use-feature=in-tree-build ./"
   ]
  },
  {
   "cell_type": "code",
   "execution_count": 1,
   "metadata": {},
   "outputs": [],
   "source": [
    "import pandas  as pd\n",
    "import numpy as np\n",
    "import io\n",
    "from PIL import Image\n",
    "import zipfile"
   ]
  },
  {
   "cell_type": "code",
   "execution_count": 2,
   "metadata": {},
   "outputs": [],
   "source": [
    "train_df = pd.read_csv(\"../data/bokete/train.csv\")\n",
    "test_df = pd.read_csv(\"../data/bokete/test.csv\")\n"
   ]
  },
  {
   "cell_type": "code",
   "execution_count": 3,
   "metadata": {},
   "outputs": [
    {
     "name": "stderr",
     "output_type": "stream",
     "text": [
      "C:\\Users\\takah\\AppData\\Local\\Temp\\ipykernel_18392\\4052426647.py:25: VisibleDeprecationWarning: Creating an ndarray from ragged nested sequences (which is a list-or-tuple of lists-or-tuples-or ndarrays with different lengths or shapes) is deprecated. If you meant to do this, you must specify 'dtype=object' when creating the ndarray.\n",
      "  train_imgs = np.array(train_imgs)\n"
     ]
    }
   ],
   "source": [
    "# zipファイルのパス\n",
    "zip_path = '../data/bokete/train.zip'\n",
    "\n",
    "# 配列格納用のList\n",
    "train_imgs = []\n",
    "\n",
    "# zipの読み込み\n",
    "with zipfile.ZipFile(zip_path, 'r') as zip_file:\n",
    "    # zipファイル内の各ファイルについてループ\n",
    "    for info in zip_file.infolist():\n",
    "        # 「zipファイル名/」については処理をしない\n",
    "        if (info.filename != 'data/'):\n",
    "            # 対象の画像ファイルを開く\n",
    "            with zip_file.open(info.filename) as img_file:\n",
    "                # 画像のバイナリデータを読み込む\n",
    "                img_bin = io.BytesIO(img_file.read())\n",
    "                # バイナリデータをpillowから開く\n",
    "                img = Image.open(img_bin)\n",
    "                # 画像データを配列化\n",
    "                img_array = np.array(img)\n",
    "                # 格納用のListに追加\n",
    "                train_imgs.append(img_array)\n",
    "\n",
    "# 処理が完了後、np.arrayに変換\n",
    "train_imgs = np.array(train_imgs)"
   ]
  },
  {
   "cell_type": "code",
   "execution_count": 4,
   "metadata": {},
   "outputs": [
    {
     "name": "stderr",
     "output_type": "stream",
     "text": [
      "C:\\Users\\takah\\AppData\\Local\\Temp\\ipykernel_18392\\726763509.py:25: VisibleDeprecationWarning: Creating an ndarray from ragged nested sequences (which is a list-or-tuple of lists-or-tuples-or ndarrays with different lengths or shapes) is deprecated. If you meant to do this, you must specify 'dtype=object' when creating the ndarray.\n",
      "  test_imgs = np.array(test_imgs)\n"
     ]
    }
   ],
   "source": [
    "# zipファイルのパス\n",
    "zip_path = '../data/bokete/test.zip'\n",
    "\n",
    "# 配列格納用のList\n",
    "test_imgs = []\n",
    "\n",
    "# zipの読み込み\n",
    "with zipfile.ZipFile(zip_path, 'r') as zip_file:\n",
    "    # zipファイル内の各ファイルについてループ\n",
    "    for info in zip_file.infolist():\n",
    "        # 「zipファイル名/」については処理をしない\n",
    "        if (info.filename != 'data/'):\n",
    "            # 対象の画像ファイルを開く\n",
    "            with zip_file.open(info.filename) as img_file:\n",
    "                # 画像のバイナリデータを読み込む\n",
    "                img_bin = io.BytesIO(img_file.read())\n",
    "                # バイナリデータをpillowから開く\n",
    "                img = Image.open(img_bin)\n",
    "                # 画像データを配列化\n",
    "                img_array = np.array(img)\n",
    "                # 格納用のListに追加\n",
    "                test_imgs.append(img_array)\n",
    "\n",
    "# 処理が完了後、np.arrayに変換\n",
    "test_imgs = np.array(test_imgs)"
   ]
  },
  {
   "cell_type": "code",
   "execution_count": null,
   "metadata": {},
   "outputs": [],
   "source": [
    "import torch\n",
    "import numpy as np\n",
    "from fairseq import checkpoint_utils, distributed_utils, options, tasks, utils\n",
    "from fairseq.dataclass.utils import convert_namespace_to_omegaconf\n",
    "from tasks.mm_tasks.refcoco import RefcocoTask\n",
    " \n",
    "from models.ofa import OFAModel\n",
    "from PIL import Image\n",
    " \n",
    "import cv2\n",
    "import numpy\n",
    " \n",
    "tasks.register_task('refcoco', RefcocoTask)\n",
    " \n",
    "# turn on cuda if GPU is available\n",
    "use_cuda = torch.cuda.is_available()\n",
    "# use fp16 only when GPU is available\n",
    "use_fp16 = False\n",
    " \n",
    "# specify some options for evaluation\n",
    "parser = options.get_generation_parser()\n",
    "input_args = [\"\", \"--task=refcoco\", \"--beam=10\", \"--path=checkpoints/ofa_large.pt\", \"--bpe-dir=utils/BPE\"]\n",
    "args = options.parse_args_and_arch(parser, input_args)\n",
    "cfg = convert_namespace_to_omegaconf(args)"
   ]
  }
 ],
 "metadata": {
  "kernelspec": {
   "display_name": "Python 3.9.12 ('test_env')",
   "language": "python",
   "name": "python3"
  },
  "language_info": {
   "codemirror_mode": {
    "name": "ipython",
    "version": 3
   },
   "file_extension": ".py",
   "mimetype": "text/x-python",
   "name": "python",
   "nbconvert_exporter": "python",
   "pygments_lexer": "ipython3",
   "version": "3.9.12"
  },
  "orig_nbformat": 4,
  "vscode": {
   "interpreter": {
    "hash": "139e08609a3fbce2fbc54fac7bce5ae0399bcfe4096df2489efaad135911dbcb"
   }
  }
 },
 "nbformat": 4,
 "nbformat_minor": 2
}
